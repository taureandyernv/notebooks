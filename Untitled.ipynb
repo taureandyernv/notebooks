{
 "cells": [
  {
   "cell_type": "markdown",
   "metadata": {},
   "source": [
    "| Folder  |     Notebook Title     |                                                                    Description                                                                   | Author           | Maintaining Contributors |\n",
    "|---------|:----------------------:|:------------------------------------------------------------------------------------------------------------------------------------------------:|------------------|--------------------------|\n",
    "| cuML    | XGBoost Demo           | This notebook shows the acceleration one can gain by using GPUs with XGBoost in RAPIDS.                                                          |                  |                          |\n",
    "| cuML    | dbscan_demo            | This notebook showcases density-based spatial clustering of applications with noise (dbscan) algorithm comparison between cuML and scikit-learn. |                  |                          |\n",
    "| cuML    | knn_demo               | This notebook showcases k-nearest neighbors (knn) algorithm comparison between cuML and scikit-learn.                                            | Saloni Jain      | Saloni Jain              |\n",
    "| cuML    | Linear Regression Demo | This notebook includes code example linear regression using RAPIDS cuDF and cuML.                                                                |                  |                          |\n",
    "| cuML    | Ridge Regression Demo  | This notebook includes code examples of ridge regression using RAPIDS cuDF and cuML.                                                             |                  |                          |\n",
    "| cuML    | knn_demo               |                                                                                                                                                  | Saloni Jain      |                          |\n",
    "| cuML    | pca_demo               | This notebook showcases principal component analysis (PCA) algorithm comparison between cuML and scikit-learn.                                   |                  |                          |\n",
    "| cuML    | tsvd_demo              | This notebook showcases truncated singular value decomposition (tsvd) algorithm comparison between cuML and scikit-learn.                        |                  |                          |\n",
    "| cuML    | sgd_demo               |                                                                                                                                                  | Saloni Jain      | Saloni Jain              |\n",
    "| cuML    | umap_demo              |                                                                                                                                                  | Benjamin Zaitlen | Rapids Team              |\n",
    "| cuML    | umap_supervised_demo   |                                                                                                                                                  | Corey Nolet      | Corey Nolet              |\n",
    "| cuGraph | Louvain                | use cuGraph to identify the cluster in a test graph using the Louvain algorithm                                                                  | Bradley Rees     | Bradley Rees             |\n",
    "| cuGraph | Pagerank               | use both NetworkX and cuGraph to compute the PageRank of each vertex in our test dataset                                                         | Bradley Rees     | Bradley Rees             |\n",
    "| cuGraph | Vertex-Similarity      | use cuGraph to compute vertex similarity using both the Jaccard Similarity and the Overlap Coefficient.                                          | Bradley Rees     | Bradley Rees             |\n",
    "| cuGraph | Weighted-Jaccard       | use cuGraph to compute the Weighted Jaccard Similarity metric on our training dataset.                                                           | Bradley Rees     | Bradley Rees             |\n",
    "| E2E     | Mortgage E2E Workflow  | Dataset driven notebook that has a workflow that is derived from Fannie Mae’s Single-Family Loan Performance Data                                | Keith Kraus      | Matthew Jones            |\n",
    "| E2E     | Weather_demo           |                                                                                                                                                  | Randy Gelhaussen |                          |"
   ]
  },
  {
   "cell_type": "code",
   "execution_count": 1,
   "metadata": {},
   "outputs": [
    {
     "name": "stdout",
     "output_type": "stream",
     "text": [
      "--2019-05-01 19:07:22--  https://raw.githubusercontent.com/ChuckHastings/notebooks/fea_renumbering_vertices/cugraph/Renumber.ipynb\n",
      "Resolving raw.githubusercontent.com (raw.githubusercontent.com)... 151.101.0.133, 151.101.64.133, 151.101.128.133, ...\n",
      "Connecting to raw.githubusercontent.com (raw.githubusercontent.com)|151.101.0.133|:443... connected.\n",
      "HTTP request sent, awaiting response... 200 OK\n",
      "Length: 19706 (19K) [text/plain]\n",
      "Saving to: ‘Renumber.ipynb’\n",
      "\n",
      "Renumber.ipynb      100%[===================>]  19.24K  --.-KB/s    in 0.004s  \n",
      "\n",
      "2019-05-01 19:07:23 (5.06 MB/s) - ‘Renumber.ipynb’ saved [19706/19706]\n",
      "\n"
     ]
    }
   ],
   "source": [
    "!wget https://raw.githubusercontent.com/ChuckHastings/notebooks/fea_renumbering_vertices/cugraph/Renumber.ipynb"
   ]
  },
  {
   "cell_type": "code",
   "execution_count": null,
   "metadata": {},
   "outputs": [],
   "source": []
  }
 ],
 "metadata": {
  "kernelspec": {
   "display_name": "Python 3",
   "language": "python",
   "name": "python3"
  },
  "language_info": {
   "codemirror_mode": {
    "name": "ipython",
    "version": 3
   },
   "file_extension": ".py",
   "mimetype": "text/x-python",
   "name": "python",
   "nbconvert_exporter": "python",
   "pygments_lexer": "ipython3",
   "version": "3.7.3"
  }
 },
 "nbformat": 4,
 "nbformat_minor": 2
}
